{
  "nbformat": 4,
  "nbformat_minor": 0,
  "metadata": {
    "colab": {
      "name": "Baseline_KNN.ipynb",
      "provenance": []
    },
    "kernelspec": {
      "name": "python3",
      "display_name": "Python 3"
    },
    "language_info": {
      "name": "python"
    }
  },
  "cells": [
    {
      "cell_type": "markdown",
      "source": [
        "#Same Pre-processing steps followed in the proposed Deep learning models"
      ],
      "metadata": {
        "id": "XOPgM87QkcIy"
      }
    },
    {
      "cell_type": "markdown",
      "source": [
        "**Dataset Link:**\n",
        "\n",
        "https://drive.google.com/drive/folders/1NHikQIu29Ht2HpYeMzoV0Dfwrl__yM01?usp=sharing "
      ],
      "metadata": {
        "id": "KG-CHurRYxJT"
      }
    },
    {
      "cell_type": "code",
      "execution_count": null,
      "metadata": {
        "id": "058qwxyvgfwT"
      },
      "outputs": [],
      "source": [
        "import numpy as np \n",
        "import pandas as pd \n",
        "import os\n",
        "\n",
        "import matplotlib.pyplot as plt\n",
        "import csv\n",
        "import itertools\n",
        "import collections\n",
        "\n",
        "import pywt\n",
        "from scipy import stats\n",
        "\n",
        "from sklearn.utils import resample\n",
        "from sklearn.model_selection import train_test_split\n",
        "\n",
        "import keras\n",
        "from keras.models import Sequential\n",
        "from keras.layers import Conv1D, AvgPool1D, Flatten, Dense, Dropout, Softmax,LSTM,GRU\n",
        "from tensorflow.keras.optimizers import Adam \n",
        "from keras.utils.np_utils import to_categorical\n",
        "from keras.utils.vis_utils import plot_model\n",
        "from keras import regularizers\n",
        "\n",
        "\n",
        "%matplotlib inline\n",
        "\n",
        "#Matplotlib setup\n",
        "plt.rcParams[\"figure.figsize\"] = (3,1)\n",
        "plt.rcParams['lines.linewidth'] = 1\n",
        "plt.rcParams['lines.color'] = 'b'\n",
        "plt.rcParams['axes.grid'] = True "
      ]
    },
    {
      "cell_type": "code",
      "source": [
        "path = '/content/drive/MyDrive/Dataset/mitbih_database/mitbih_database/'\n",
        "window_size = 180\n",
        "maximum_counting = 10000\n",
        "\n",
        "classes = ['N', 'L', 'R', 'A', 'V']\n",
        "n_classes = len(classes)\n",
        "count_classes = [0]*n_classes\n",
        "\n",
        "X = list()\n",
        "y = list()"
      ],
      "metadata": {
        "id": "kVCB-yokgork"
      },
      "execution_count": null,
      "outputs": []
    },
    {
      "cell_type": "code",
      "source": [
        "\n",
        "filenames = next(os.walk(path))[2]\n",
        "\n",
        "\n",
        "records = list()\n",
        "annotations = list()\n",
        "filenames.sort()"
      ],
      "metadata": {
        "id": "VJXn6-JDgqNz"
      },
      "execution_count": null,
      "outputs": []
    },
    {
      "cell_type": "code",
      "source": [
        "\n",
        "for f in filenames:\n",
        "    filename, file_extension = os.path.splitext(f)\n",
        "    \n",
        "    # *.csv\n",
        "    if(file_extension == '.csv'):\n",
        "        records.append(path + filename + file_extension)\n",
        "\n",
        "    # *.txt\n",
        "    else:\n",
        "        annotations.append(path + filename + file_extension)"
      ],
      "metadata": {
        "id": "HViL-iSdgr3E"
      },
      "execution_count": null,
      "outputs": []
    },
    {
      "cell_type": "code",
      "source": [
        "def denoise(data): \n",
        "    w = pywt.Wavelet('sym4')\n",
        "    maxlev = pywt.dwt_max_level(len(data), w.dec_len) \n",
        "    threshold = 0.04\n",
        "\n",
        "    coeffs = pywt.wavedec(data, 'sym4', level=maxlev)\n",
        "    for i in range(1, len(coeffs)):\n",
        "        coeffs[i] = pywt.threshold(coeffs[i], threshold*max(coeffs[i]))\n",
        "        \n",
        "    datarec = pywt.waverec(coeffs, 'sym4')\n",
        "    \n",
        "    return datarec"
      ],
      "metadata": {
        "id": "aqX3E4J_gttb"
      },
      "execution_count": null,
      "outputs": []
    },
    {
      "cell_type": "code",
      "source": [
        "\n",
        "for r in range(0,len(records)):\n",
        "    signals = []\n",
        "\n",
        "    with open(records[r], 'rt') as csvfile:\n",
        "        spamreader = csv.reader(csvfile, delimiter=',', quotechar='|') # read CSV file\\\n",
        "        row_index = -1\n",
        "        for row in spamreader:\n",
        "            if(row_index >= 0):\n",
        "                signals.insert(row_index, int(row[1]))\n",
        "            row_index += 1\n",
        "            \n",
        "   \n",
        "    if r is 1:\n",
        "        \n",
        "        plt.title(\"103.csv Wave\")\n",
        "        plt.plot(signals[0:500])\n",
        "        \n",
        "        plt.show()\n",
        "        \n",
        "    signals = denoise(signals)\n",
        "   \n",
        "    if r is 1:\n",
        "        \n",
        "        plt.title(\"103.csv wave after denoised\")\n",
        "        plt.plot(signals[0:500])\n",
        "        plt.show()\n",
        "        \n",
        "    signals = stats.zscore(signals)\n",
        "    \n",
        "    if r is 1:\n",
        "       \n",
        "        plt.title( \" 103.csv wave after z-score normalization \")\n",
        "        plt.plot(signals[0:500])\n",
        "        plt.show()\n",
        "    \n",
        "   \n",
        "    example_beat_printed = False\n",
        "    with open(annotations[r], 'r') as fileID:\n",
        "        data = fileID.readlines() \n",
        "        beat = list()\n",
        "\n",
        "        for d in range(1, len(data)): \n",
        "            splitted = data[d].split(' ')\n",
        "            splitted = filter(None, splitted)\n",
        "            next(splitted) \n",
        "            pos = int(next(splitted)) \n",
        "            arrhythmia_type = next(splitted) \n",
        "            if(arrhythmia_type in classes):\n",
        "                arrhythmia_index = classes.index(arrhythmia_type)\n",
        "                count_classes[arrhythmia_index] += 1\n",
        "                if(window_size <= pos and pos < (len(signals) - window_size)):\n",
        "                    beat = signals[pos-window_size:pos+window_size]    \n",
        "                    if r is 1 and not example_beat_printed: \n",
        "                        plt.title(\"A Beat from \" + records[3] + \" Wave\")\n",
        "                        plt.plot(beat)\n",
        "                        plt.show()\n",
        "                        example_beat_printed = True\n",
        "\n",
        "                    X.append(beat)\n",
        "                    y.append(arrhythmia_index)\n",
        "\n",
        "\n",
        "print(np.shape(X), np.shape(y))\n"
      ],
      "metadata": {
        "colab": {
          "base_uri": "https://localhost:8080/",
          "height": 1000
        },
        "id": "yft-VfxKgwI7",
        "outputId": "4d6c6db9-6fa7-458f-a3a7-993713caaf32"
      },
      "execution_count": null,
      "outputs": [
        {
          "output_type": "display_data",
          "data": {
            "image/png": "[encoded data removed]",
            "text/plain": [
              "<Figure size 432x288 with 1 Axes>"
            ]
          },
          "metadata": {
            "needs_background": "light"
          }
        },
        {
          "output_type": "display_data",
          "data": {
            "image/png": "[encoded data removed]",
            "text/plain": [
              "<Figure size 432x288 with 1 Axes>"
            ]
          },
          "metadata": {
            "needs_background": "light"
          }
        },
        {
          "output_type": "display_data",
          "data": {
            "image/png": "[encoded data removed]",
            "text/plain": [
              "<Figure size 432x288 with 1 Axes>"
            ]
          },
          "metadata": {
            "needs_background": "light"
          }
        },
        {
          "output_type": "display_data",
          "data": {
            "image/png": "[encoded data removed]",
            "text/plain": [
              "<Figure size 432x288 with 1 Axes>"
            ]
          },
          "metadata": {
            "needs_background": "light"
          }
        },
        {
          "output_type": "stream",
          "name": "stdout",
          "text": [
            "(100012, 360) (100012,)\n"
          ]
        }
      ]
    },
    {
      "cell_type": "code",
      "source": [
        "for i in range(0,len(X)):\n",
        "        X[i] = np.append(X[i], y[i])\n",
        "\n",
        "\n",
        "print(np.shape(X))"
      ],
      "metadata": {
        "colab": {
          "base_uri": "https://localhost:8080/"
        },
        "id": "_9jYSyRghxoz",
        "outputId": "3d432705-7031-4ed1-8345-6b3a4e8e1d3f"
      },
      "execution_count": null,
      "outputs": [
        {
          "output_type": "stream",
          "name": "stdout",
          "text": [
            "(100012, 361)\n"
          ]
        }
      ]
    },
    {
      "cell_type": "code",
      "source": [
        "df = pd.DataFrame(X) \n",
        "per_class = df[df.shape[1]-1].value_counts()\n",
        "print(per_class)\n",
        "plt.figure(figsize=(5,5))\n",
        "my_circle=plt.Circle( (0,0), 0.3, color='white')\n",
        "plt.pie(per_class, labels=['N', 'S', 'V', 'F', 'Q'], colors=['tab:purple','tab:olive','tab:grey','tab:pink','tab:green'],autopct='%1.1f%%')\n",
        "p=plt.gcf()\n",
        "p.gca().add_artist(my_circle)\n",
        "plt.show()"
      ],
      "metadata": {
        "colab": {
          "base_uri": "https://localhost:8080/",
          "height": 407
        },
        "id": "v-M8-N2ph0rb",
        "outputId": "eaa2e0a0-8448-4ab9-f906-671b2c90849e"
      },
      "execution_count": null,
      "outputs": [
        {
          "output_type": "stream",
          "name": "stdout",
          "text": [
            "0.0    75011\n",
            "1.0     8071\n",
            "2.0     7255\n",
            "4.0     7129\n",
            "3.0     2546\n",
            "Name: 360, dtype: int64\n"
          ]
        },
        {
          "output_type": "display_data",
          "data": {
            "image/png": "[encoded data removed]",
            "text/plain": [
              "<Figure size 360x360 with 1 Axes>"
            ]
          },
          "metadata": {}
        }
      ]
    },
    {
      "cell_type": "markdown",
      "source": [
        "###Train Test split"
      ],
      "metadata": {
        "id": "s5AWgYKwiL8T"
      }
    },
    {
      "cell_type": "code",
      "source": [
        "train,test=train_test_split(df,test_size=0.20)\n",
        "print(\"train : \", np.shape(train))\n",
        "print(\"test  : \", np.shape(test))"
      ],
      "metadata": {
        "colab": {
          "base_uri": "https://localhost:8080/"
        },
        "id": "tPbQPUoWh44D",
        "outputId": "c8864d5a-3693-4319-da9c-36e0d4c32ccb"
      },
      "execution_count": null,
      "outputs": [
        {
          "output_type": "stream",
          "name": "stdout",
          "text": [
            "train :  (80009, 361)\n",
            "test  :  (20003, 361)\n"
          ]
        }
      ]
    },
    {
      "cell_type": "markdown",
      "source": [
        "###Sampling in train data"
      ],
      "metadata": {
        "id": "oq6R-JwsiOa6"
      }
    },
    {
      "cell_type": "code",
      "source": [
        "#down sampling class 0\n",
        "df_0=(train[train[train.shape[1]-1]==0]).sample(7000,random_state=42)\n",
        "\n",
        "#up sampling class 1\n",
        "df_1=train[train[train.shape[1]-1]==1]\n",
        "df_1_upsample=resample(df_1,replace=True,n_samples=7000,random_state=23)\n",
        "\n",
        "#up sampling class 2\n",
        "df_2=train[train[train.shape[1]-1]==2]\n",
        "df_2_upsample=resample(df_2,replace=True,n_samples=7000,random_state=23)\n",
        "\n",
        "#up sampling class 3\n",
        "df_3=train[train[train.shape[1]-1]==3]\n",
        "df_3_upsample=resample(df_3,replace=True,n_samples=7000,random_state=23)\n",
        "\n",
        "#up sampling class 4\n",
        "df_4=train[train[train.shape[1]-1]==4]\n",
        "df_4_upsample=resample(df_4,replace=True,n_samples=7000,random_state=23)\n"
      ],
      "metadata": {
        "id": "5QfVXTO-h6RC"
      },
      "execution_count": null,
      "outputs": []
    },
    {
      "cell_type": "code",
      "source": [
        "train_df=pd.concat([df_0,df_1_upsample,df_2_upsample,df_3_upsample,df_4_upsample])"
      ],
      "metadata": {
        "id": "N9FMfJGgh8iS"
      },
      "execution_count": null,
      "outputs": []
    },
    {
      "cell_type": "code",
      "source": [
        "per_class = train_df[train_df.shape[1]-1].value_counts()\n",
        "print(per_class)\n",
        "plt.figure(figsize=(5,5))\n",
        "my_circle=plt.Circle( (0,0), 0.3, color='white')\n",
        "plt.pie(per_class, labels=['N', 'S', 'V', 'F', 'Q'], colors=['tab:purple','tab:olive','tab:grey','tab:pink','tab:green'],autopct='%1.1f%%')\n",
        "p=plt.gcf()\n",
        "p.gca().add_artist(my_circle)\n",
        "#plt.title(\"Sampling in train data\")\n",
        "plt.show()"
      ],
      "metadata": {
        "colab": {
          "base_uri": "https://localhost:8080/",
          "height": 407
        },
        "id": "sVX-tC8Ph_Sj",
        "outputId": "4207c139-2f54-4818-80da-f6632694a587"
      },
      "execution_count": null,
      "outputs": [
        {
          "output_type": "stream",
          "name": "stdout",
          "text": [
            "3.0    7000\n",
            "4.0    7000\n",
            "2.0    7000\n",
            "1.0    7000\n",
            "0.0    7000\n",
            "Name: 360, dtype: int64\n"
          ]
        },
        {
          "output_type": "display_data",
          "data": {
            "image/png": "[encoded data removed]",
            "text/plain": [
              "<Figure size 360x360 with 1 Axes>"
            ]
          },
          "metadata": {}
        }
      ]
    },
    {
      "cell_type": "markdown",
      "source": [
        "###X,y in test data"
      ],
      "metadata": {
        "id": "6vDmTLnpiRir"
      }
    },
    {
      "cell_type": "code",
      "source": [
        "#test data \n",
        "test_x= test.iloc[:,:test.shape[1]-1].values\n",
        "#test_x=test_x.reshape(len(test_x), test_x.shape[1],1)\n",
        "test_y= test[test.shape[1]-1]\n",
        "test_y=to_categorical(test_y)"
      ],
      "metadata": {
        "id": "aQ9Qt9lgiCRj"
      },
      "execution_count": null,
      "outputs": []
    },
    {
      "cell_type": "code",
      "source": [
        "print(\"test_x : \", np.shape(test_x))\n",
        "print(\"test_y  : \", np.shape(test_y))"
      ],
      "metadata": {
        "colab": {
          "base_uri": "https://localhost:8080/"
        },
        "id": "42waVvcDiEv6",
        "outputId": "fad66a2b-bcc2-4d9f-cf8d-ddb57741e233"
      },
      "execution_count": null,
      "outputs": [
        {
          "output_type": "stream",
          "name": "stdout",
          "text": [
            "test_x :  (20003, 360)\n",
            "test_y  :  (20003, 5)\n"
          ]
        }
      ]
    },
    {
      "cell_type": "code",
      "source": [
        "per_class = test[test.shape[1]-1].value_counts()\n",
        "print(per_class)\n",
        "plt.figure(figsize=(5,5))\n",
        "my_circle=plt.Circle( (0,0), 0.3, color='white')\n",
        "plt.pie(per_class, labels=['N', 'S', 'V', 'F', 'Q'], colors=['tab:purple','tab:olive','tab:grey','tab:pink','tab:green'],autopct='%1.1f%%')\n",
        "p=plt.gcf()\n",
        "p.gca().add_artist(my_circle)\n",
        "plt.title(\"No sampling in test data\")\n",
        "plt.show()"
      ],
      "metadata": {
        "colab": {
          "base_uri": "https://localhost:8080/",
          "height": 423
        },
        "id": "lNbLxluRiHMK",
        "outputId": "9f32281f-9197-4d3d-a1f7-2e824ef3992e"
      },
      "execution_count": null,
      "outputs": [
        {
          "output_type": "stream",
          "name": "stdout",
          "text": [
            "0.0    14993\n",
            "1.0     1617\n",
            "4.0     1435\n",
            "2.0     1427\n",
            "3.0      531\n",
            "Name: 360, dtype: int64\n"
          ]
        },
        {
          "output_type": "display_data",
          "data": {
            "image/png": "[encoded data removed]",
            "text/plain": [
              "<Figure size 360x360 with 1 Axes>"
            ]
          },
          "metadata": {}
        }
      ]
    },
    {
      "cell_type": "markdown",
      "source": [
        "###train,val from train data "
      ],
      "metadata": {
        "id": "6FFuoOPGiJjC"
      }
    },
    {
      "cell_type": "code",
      "source": [
        "##just for this 1 fold splitting of test and train\n",
        "Train, val = train_test_split(train_df, test_size=0.20)\n",
        "\n",
        "print(\"X_train : \", np.shape(Train))\n",
        "print(\"X_test  : \", np.shape(val))"
      ],
      "metadata": {
        "colab": {
          "base_uri": "https://localhost:8080/"
        },
        "id": "56vIn4DIiH7i",
        "outputId": "fd910068-28ca-41df-a5df-03a966464e14"
      },
      "execution_count": null,
      "outputs": [
        {
          "output_type": "stream",
          "name": "stdout",
          "text": [
            "X_train :  (28000, 361)\n",
            "X_test  :  (7000, 361)\n"
          ]
        }
      ]
    },
    {
      "cell_type": "code",
      "source": [
        "train_df.shape #sampled train data"
      ],
      "metadata": {
        "colab": {
          "base_uri": "https://localhost:8080/"
        },
        "id": "AN5qbsi1j4ZK",
        "outputId": "31378b49-f324-44df-8264-53759de4c07e"
      },
      "execution_count": null,
      "outputs": [
        {
          "output_type": "execute_result",
          "data": {
            "text/plain": [
              "(35000, 361)"
            ]
          },
          "metadata": {},
          "execution_count": 22
        }
      ]
    },
    {
      "cell_type": "code",
      "source": [
        "test.shape"
      ],
      "metadata": {
        "colab": {
          "base_uri": "https://localhost:8080/"
        },
        "id": "S9G_eh_vj6ZH",
        "outputId": "4ea43ed5-c996-41c1-b821-27131b60934e"
      },
      "execution_count": null,
      "outputs": [
        {
          "output_type": "execute_result",
          "data": {
            "text/plain": [
              "(20003, 361)"
            ]
          },
          "metadata": {},
          "execution_count": 23
        }
      ]
    },
    {
      "cell_type": "code",
      "source": [
        "Train=train_df"
      ],
      "metadata": {
        "id": "_iAuTviLkJJp"
      },
      "execution_count": null,
      "outputs": []
    },
    {
      "cell_type": "code",
      "source": [
        "Train.shape"
      ],
      "metadata": {
        "colab": {
          "base_uri": "https://localhost:8080/"
        },
        "id": "8dycWDZ5kLBh",
        "outputId": "7dda69b1-c976-402c-bb25-572ab5342479"
      },
      "execution_count": null,
      "outputs": [
        {
          "output_type": "execute_result",
          "data": {
            "text/plain": [
              "(35000, 361)"
            ]
          },
          "metadata": {},
          "execution_count": 25
        }
      ]
    },
    {
      "cell_type": "markdown",
      "source": [
        "###X,y for KNN"
      ],
      "metadata": {
        "id": "ujc-wV0Rk0Ph"
      }
    },
    {
      "cell_type": "code",
      "source": [
        "target_train=Train[Train.shape[1]-1] #label train\n",
        "#target_val=val[val.shape[1]-1] #labes test\n",
        "Train_y=to_categorical(target_train)\n",
        "#val_y=to_categorical(target_val)\n",
        "print(np.shape(Train_y))\n",
        "\n",
        "Train_x = Train.iloc[:,:Train.shape[1]-1].values\n",
        "#val_x = val.iloc[:,:val.shape[1]-1].values\n",
        "#Train_x = Train_x.reshape(len(Train_x), Train_x.shape[1],1)\n",
        "#val_x = val_x.reshape(len(val_x),val_x.shape[1],1)\n",
        "print(np.shape(Train_x))"
      ],
      "metadata": {
        "colab": {
          "base_uri": "https://localhost:8080/"
        },
        "id": "Lw_ix_TAjTpK",
        "outputId": "38007635-5e7c-4f12-bf3c-bd1c29ad555b"
      },
      "execution_count": null,
      "outputs": [
        {
          "output_type": "stream",
          "name": "stdout",
          "text": [
            "(35000, 5)\n",
            "(35000, 360)\n"
          ]
        }
      ]
    },
    {
      "cell_type": "markdown",
      "source": [
        "Model fitting"
      ],
      "metadata": {
        "id": "Xjp-B5bfk4Ah"
      }
    },
    {
      "cell_type": "code",
      "source": [
        "#Random forest classifier\n",
        "from sklearn.neighbors import KNeighborsClassifier\n",
        "rfc=KNeighborsClassifier()\n",
        "rfc.fit(Train_x,Train_y)"
      ],
      "metadata": {
        "colab": {
          "base_uri": "https://localhost:8080/"
        },
        "id": "QkEIu7oFjVqp",
        "outputId": "508da593-5811-438c-83f9-ad8e9d270b14"
      },
      "execution_count": null,
      "outputs": [
        {
          "output_type": "execute_result",
          "data": {
            "text/plain": [
              "KNeighborsClassifier()"
            ]
          },
          "metadata": {},
          "execution_count": 27
        }
      ]
    },
    {
      "cell_type": "markdown",
      "source": [
        "###Evaluation"
      ],
      "metadata": {
        "id": "eF5KJidSk6CB"
      }
    },
    {
      "cell_type": "code",
      "source": [
        "import seaborn as sns\n",
        "from sklearn.metrics import confusion_matrix\n",
        "y_true=[]\n",
        "for element in test_y:\n",
        "    y_true.append(np.argmax(element))\n",
        "prediction_proba=rfc.predict(test_x)\n",
        "prediction=np.argmax(prediction_proba,axis=1)\n",
        "model_cf_matrix = confusion_matrix(y_true, prediction)\n",
        "plt.figure(figsize=(5,2))\n",
        "sns.heatmap(model_cf_matrix/np.sum(model_cf_matrix), annot=True,fmt='.3%', cmap='Blues')"
      ],
      "metadata": {
        "colab": {
          "base_uri": "https://localhost:8080/",
          "height": 174
        },
        "id": "MQOv94AJjY7x",
        "outputId": "7d8403c6-67cc-4428-a47c-c7b1e787e373"
      },
      "execution_count": null,
      "outputs": [
        {
          "output_type": "execute_result",
          "data": {
            "text/plain": [
              "<matplotlib.axes._subplots.AxesSubplot at 0x7f38d3b320d0>"
            ]
          },
          "metadata": {},
          "execution_count": 30
        },
        {
          "output_type": "display_data",
          "data": {
            "image/png": "[encoded data removed]",
            "text/plain": [
              "<Figure size 360x144 with 2 Axes>"
            ]
          },
          "metadata": {
            "needs_background": "light"
          }
        }
      ]
    },
    {
      "cell_type": "code",
      "source": [
        "from sklearn.metrics import classification_report, confusion_matrix, accuracy_score\n",
        "result = confusion_matrix(y_true, prediction)\n",
        "print(\"Confusion Matrix:\")\n",
        "print(result)\n",
        "result1 = classification_report(y_true, prediction)\n",
        "print(\"Classification Report:\",)\n",
        "print (result1)\n",
        "result2 = accuracy_score(y_true,prediction)\n",
        "print(\"Accuracy:\",result2)"
      ],
      "metadata": {
        "colab": {
          "base_uri": "https://localhost:8080/"
        },
        "id": "_Cii2-dijcC5",
        "outputId": "c7a6f88f-d461-4590-fc2b-6601822a12e2"
      },
      "execution_count": null,
      "outputs": [
        {
          "output_type": "stream",
          "name": "stdout",
          "text": [
            "Confusion Matrix:\n",
            "[[14205   114   134   465    75]\n",
            " [   12  1598     0     3     4]\n",
            " [    8     3  1412     3     1]\n",
            " [   34     3     8   485     1]\n",
            " [   30    21     3    11  1370]]\n",
            "Classification Report:\n",
            "              precision    recall  f1-score   support\n",
            "\n",
            "           0       0.99      0.95      0.97     14993\n",
            "           1       0.92      0.99      0.95      1617\n",
            "           2       0.91      0.99      0.95      1427\n",
            "           3       0.50      0.91      0.65       531\n",
            "           4       0.94      0.95      0.95      1435\n",
            "\n",
            "    accuracy                           0.95     20003\n",
            "   macro avg       0.85      0.96      0.89     20003\n",
            "weighted avg       0.97      0.95      0.96     20003\n",
            "\n",
            "Accuracy: 0.9533569964505324\n"
          ]
        }
      ]
    }
  ]
}