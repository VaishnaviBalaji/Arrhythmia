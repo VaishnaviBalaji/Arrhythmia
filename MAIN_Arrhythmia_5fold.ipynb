{
  "cells": [
    {
      "cell_type": "markdown",
      "source": [
        "#**Dataset Link:**\n",
        "\n",
        "https://drive.google.com/drive/folders/1NHikQIu29Ht2HpYeMzoV0Dfwrl__yM01?usp=sharing "
      ],
      "metadata": {
        "id": "kUWp-hnOlTRM"
      }
    },
    {
      "cell_type": "markdown",
      "source": [
        "# Imports"
      ],
      "metadata": {
        "id": "4gNZ49y0z86H"
      }
    },
    {
      "cell_type": "code",
      "execution_count": 1,
      "metadata": {
        "id": "y7k-rwciSusV"
      },
      "outputs": [],
      "source": [
        "import numpy as np \n",
        "import pandas as pd \n",
        "import os\n",
        "\n",
        "import matplotlib.pyplot as plt\n",
        "import csv\n",
        "import itertools\n",
        "import collections\n",
        "\n",
        "import pywt\n",
        "from scipy import stats\n",
        "\n",
        "from sklearn.utils import resample\n",
        "from sklearn.model_selection import train_test_split\n",
        "\n",
        "import keras\n",
        "from keras.models import Sequential\n",
        "from keras.layers import Conv1D, AvgPool1D, Flatten, Dense, Dropout, Softmax,LSTM,GRU\n",
        "from tensorflow.keras.optimizers import Adam \n",
        "from keras.utils.np_utils import to_categorical\n",
        "from keras.utils.vis_utils import plot_model\n",
        "from keras import regularizers\n",
        "\n",
        "\n",
        "%matplotlib inline\n",
        "\n",
        "#Matplotlib setup\n",
        "plt.rcParams[\"figure.figsize\"] = (3,1)\n",
        "plt.rcParams['lines.linewidth'] = 1\n",
        "plt.rcParams['lines.color'] = 'b'\n",
        "plt.rcParams['axes.grid'] = True "
      ]
    },
    {
      "cell_type": "markdown",
      "source": [
        "# Reading the Input Data"
      ],
      "metadata": {
        "id": "5hMJeJG40Za-"
      }
    },
    {
      "cell_type": "code",
      "execution_count": 2,
      "metadata": {
        "id": "urVEPq_pTDTa"
      },
      "outputs": [],
      "source": [
        "path = '/content/drive/MyDrive/Dataset/mitbih_database/mitbih_database/' \n",
        "#input path\n",
        "window_size = 180\n",
        "maximum_counting = 10000\n",
        "\n",
        "classes = ['N', 'S', 'V', 'F', 'Q']\n",
        "n_classes = len(classes)\n",
        "count_classes = [0]*n_classes\n",
        "\n",
        "X = list()\n",
        "y = list()"
      ]
    },
    {
      "cell_type": "markdown",
      "source": [
        "##Reading files"
      ],
      "metadata": {
        "id": "LNDzK8fp2s85"
      }
    },
    {
      "cell_type": "code",
      "execution_count": 3,
      "metadata": {
        "id": "8wH3wE-OTSTr"
      },
      "outputs": [],
      "source": [
        "# Readint input files\n",
        "filenames = next(os.walk(path))[2]\n",
        "\n",
        "# Splitting the csv files and annotation files\n",
        "records = list()\n",
        "annotations = list()\n",
        "filenames.sort()"
      ]
    },
    {
      "cell_type": "markdown",
      "source": [
        "##Seperating files and annotations"
      ],
      "metadata": {
        "id": "oXVepOxt2xAg"
      }
    },
    {
      "cell_type": "code",
      "execution_count": null,
      "metadata": {
        "id": "Ob780a9ETVe7"
      },
      "outputs": [],
      "source": [
        "# grouping csv and annotation files\n",
        "for f in filenames:\n",
        "    filename, file_extension = os.path.splitext(f)\n",
        "    \n",
        "    # *.csv\n",
        "    if(file_extension == '.csv'):\n",
        "        records.append(path + filename + file_extension)\n",
        "\n",
        "    # *.txt\n",
        "    else:\n",
        "        annotations.append(path + filename + file_extension)"
      ]
    },
    {
      "cell_type": "markdown",
      "source": [
        "# Data Denoising"
      ],
      "metadata": {
        "id": "qgNyxdVF0O_m"
      }
    },
    {
      "cell_type": "code",
      "execution_count": null,
      "metadata": {
        "id": "WT4BjqoRTCo6"
      },
      "outputs": [],
      "source": [
        "def denoise(data): \n",
        "    w = pywt.Wavelet('sym4') #syn4 - 4 max level decomposition\n",
        "    maxlev = pywt.dwt_max_level(len(data), w.dec_len) #max useful decomposition\n",
        "    threshold = 0.04 # filtering threshold\n",
        "\n",
        "    coeffs = pywt.wavedec(data, 'sym4', level=maxlev) #adding coefficients\n",
        "    for i in range(1, len(coeffs)):\n",
        "        coeffs[i] = pywt.threshold(coeffs[i], threshold*max(coeffs[i]))\n",
        "        \n",
        "    datarec = pywt.waverec(coeffs, 'sym4') #waverec\n",
        "    \n",
        "    return datarec"
      ]
    },
    {
      "cell_type": "markdown",
      "source": [
        "#Reading R positions and Arrhythmia class"
      ],
      "metadata": {
        "id": "XOyWF4XV3B3w"
      }
    },
    {
      "cell_type": "code",
      "execution_count": null,
      "metadata": {
        "colab": {
          "base_uri": "https://localhost:8080/",
          "height": 438
        },
        "id": "xxszblSZTYH7",
        "outputId": "60f32772-3a11-4664-9e79-ce8fefd93e7c"
      },
      "outputs": [
        {
          "output_type": "display_data",
          "data": {
            "image/png": "[encoded data removed]",
            "text/plain": [
              "<Figure size 216x72 with 1 Axes>"
            ]
          },
          "metadata": {
            "needs_background": "light"
          }
        },
        {
          "output_type": "display_data",
          "data": {
            "image/png": "[encoded data removed]",
            "text/plain": [
              "<Figure size 216x72 with 1 Axes>"
            ]
          },
          "metadata": {
            "needs_background": "light"
          }
        },
        {
          "output_type": "display_data",
          "data": {
            "image/png": "[encoded data removed]",
            "text/plain": [
              "<Figure size 216x72 with 1 Axes>"
            ]
          },
          "metadata": {
            "needs_background": "light"
          }
        },
        {
          "output_type": "display_data",
          "data": {
            "image/png": "[encoded data removed]",
            "text/plain": [
              "<Figure size 216x72 with 1 Axes>"
            ]
          },
          "metadata": {
            "needs_background": "light"
          }
        },
        {
          "output_type": "stream",
          "name": "stdout",
          "text": [
            "(100012, 360) (100012,)\n"
          ]
        }
      ],
      "source": [
        "# for each records\n",
        "for r in range(0,len(records)):\n",
        "    signals = []\n",
        "    \n",
        "\n",
        "    with open(records[r], 'rt') as csvfile:\n",
        "        spamreader = csv.reader(csvfile, delimiter=',', quotechar='|') # read ECG data from .csv\n",
        "        row_index = -1\n",
        "        for row in spamreader:\n",
        "            if(row_index >= 0):\n",
        "                signals.insert(row_index, int(row[1]))\n",
        "            row_index += 1\n",
        "            \n",
        "  #example plot of a sample 103.csv\n",
        "    if r is 1:\n",
        "        # Plot each patient's signal\n",
        "        plt.title(\"103.csv Wave\")\n",
        "        plt.plot(signals[0:500])\n",
        "        #plt.grid(False)\n",
        "        plt.show()\n",
        "        \n",
        "    signals = denoise(signals) #denoising the signal\n",
        "    # plotting after denoising\n",
        "    if r is 1:\n",
        "        plt.title(\"103.csv wave after denoised\")\n",
        "        plt.plot(signals[0:500])\n",
        "        plt.show()\n",
        "        \n",
        "    signals = stats.zscore(signals) #performing Z score normalisation\n",
        "    # Plot an example to the signals\n",
        "    if r is 1:\n",
        "        plt.title( \" 103.csv wave after z-score normalization \")\n",
        "        plt.plot(signals[0:500])\n",
        "        plt.show()\n",
        "    \n",
        "    # Reading the R peaks and the annotation classes for each sample\n",
        "    example_beat_printed = False\n",
        "    with open(annotations[r], 'r') as fileID:\n",
        "        data = fileID.readlines() \n",
        "        beat = list()\n",
        "\n",
        "        for d in range(1, len(data)): \n",
        "            splitted = data[d].split(' ')\n",
        "            splitted = filter(None, splitted)\n",
        "            next(splitted) \n",
        "            pos = int(next(splitted))\n",
        "            arrhythmia_type = next(splitted) # arrhythmia clas\n",
        "            if(arrhythmia_type in classes):\n",
        "                arrhythmia_index = classes.index(arrhythmia_type)\n",
        "\n",
        "                count_classes[arrhythmia_index] += 1\n",
        "                if(window_size <= pos and pos < (len(signals) - window_size)):\n",
        "                    beat = signals[pos-window_size:pos+window_size]  #R peaks  \n",
        "                     \n",
        "                    if r is 1 and not example_beat_printed: \n",
        "                        plt.title(\"A Beat from \" + records[3] + \" Wave\")\n",
        "                        plt.plot(beat)\n",
        "                        plt.show()\n",
        "                        example_beat_printed = True\n",
        "\n",
        "                    X.append(beat)\n",
        "                    y.append(arrhythmia_index)\n",
        "\n",
        "print(np.shape(X), np.shape(y))\n"
      ]
    },
    {
      "cell_type": "code",
      "execution_count": null,
      "metadata": {
        "id": "uDS-5IneTkjU",
        "colab": {
          "base_uri": "https://localhost:8080/"
        },
        "outputId": "bede4894-05b3-4ffc-e8f9-2bf374ce42b5"
      },
      "outputs": [
        {
          "output_type": "stream",
          "name": "stdout",
          "text": [
            "(100012, 361)\n"
          ]
        }
      ],
      "source": [
        "for i in range(0,len(X)):\n",
        "        X[i] = np.append(X[i], y[i])\n",
        "\n",
        "print(np.shape(X)) #combining X and y to a single file"
      ]
    },
    {
      "cell_type": "markdown",
      "source": [
        "#Distribution of classes"
      ],
      "metadata": {
        "id": "zOgiuM1201Td"
      }
    },
    {
      "cell_type": "code",
      "source": [
        "df = pd.DataFrame(X) #Array to df\n",
        "per_class = df[df.shape[1]-1].value_counts() #class distribution\n",
        "print(per_class)\n",
        "#visualizing class distribution\n",
        "plt.figure(figsize=(5,5))\n",
        "my_circle=plt.Circle( (0,0), 0.3, color='white')\n",
        "plt.pie(per_class, labels=['N', 'S', 'V', 'F', 'Q'], colors=['tab:purple','tab:olive','tab:grey','tab:pink','tab:green'],autopct='%1.1f%%')\n",
        "p=plt.gcf()\n",
        "p.gca().add_artist(my_circle)\n",
        "plt.show()"
      ],
      "metadata": {
        "colab": {
          "base_uri": "https://localhost:8080/",
          "height": 407
        },
        "id": "6bFmVE0XV1zI",
        "outputId": "18d18527-4a93-47b4-e64b-c8d744b7caea"
      },
      "execution_count": null,
      "outputs": [
        {
          "output_type": "stream",
          "name": "stdout",
          "text": [
            "0.0    75011\n",
            "1.0     8071\n",
            "2.0     7255\n",
            "4.0     7129\n",
            "3.0     2546\n",
            "Name: 360, dtype: int64\n"
          ]
        },
        {
          "output_type": "display_data",
          "data": {
            "image/png": "[encoded data removed]",
            "text/plain": [
              "<Figure size 360x360 with 1 Axes>"
            ]
          },
          "metadata": {}
        }
      ]
    },
    {
      "cell_type": "markdown",
      "source": [
        "#Train-Test split"
      ],
      "metadata": {
        "id": "vpcdv0_F0_du"
      }
    },
    {
      "cell_type": "code",
      "source": [
        "train,test=train_test_split(df,test_size=0.20) #train test split from the main dataframe\n",
        "print(\"train : \", np.shape(train)) #train data shape\n",
        "print(\"test  : \", np.shape(test)) #test data shape"
      ],
      "metadata": {
        "colab": {
          "base_uri": "https://localhost:8080/"
        },
        "id": "-lR_28sUV74X",
        "outputId": "05eed6d5-5707-4391-cd23-2ccb32bda96a"
      },
      "execution_count": null,
      "outputs": [
        {
          "output_type": "stream",
          "name": "stdout",
          "text": [
            "train :  (80009, 361)\n",
            "test  :  (20003, 361)\n"
          ]
        }
      ]
    },
    {
      "cell_type": "markdown",
      "source": [
        "#Sampling Train Data"
      ],
      "metadata": {
        "id": "KD-DO9ca1DyO"
      }
    },
    {
      "cell_type": "code",
      "source": [
        "#down sampling class 0\n",
        "df_0=(train[train[train.shape[1]-1]==0]).sample(7000,random_state=42)\n",
        "\n",
        "#up sampling class 1\n",
        "df_1=train[train[train.shape[1]-1]==1]\n",
        "df_1_upsample=resample(df_1,replace=True,n_samples=7000,random_state=23)\n",
        "\n",
        "#up sampling class 2\n",
        "df_2=train[train[train.shape[1]-1]==2]\n",
        "df_2_upsample=resample(df_2,replace=True,n_samples=7000,random_state=23)\n",
        "\n",
        "#up sampling class 3\n",
        "df_3=train[train[train.shape[1]-1]==3]\n",
        "df_3_upsample=resample(df_3,replace=True,n_samples=7000,random_state=23)\n",
        "\n",
        "#up sampling class 4\n",
        "df_4=train[train[train.shape[1]-1]==4]\n",
        "df_4_upsample=resample(df_4,replace=True,n_samples=7000,random_state=23)\n"
      ],
      "metadata": {
        "id": "a6RgLlGmV-Ff"
      },
      "execution_count": null,
      "outputs": []
    },
    {
      "cell_type": "code",
      "source": [
        "train_df=pd.concat([df_0,df_1_upsample,df_2_upsample,df_3_upsample,df_4_upsample])\n",
        "#combining the sampled classes "
      ],
      "metadata": {
        "id": "SfJNjatFWA1H"
      },
      "execution_count": null,
      "outputs": []
    },
    {
      "cell_type": "code",
      "source": [
        "per_class = train_df[train_df.shape[1]-1].value_counts()\n",
        "print(per_class)\n",
        "#visualizing the sampled training data\n",
        "plt.figure(figsize=(5,5))\n",
        "my_circle=plt.Circle( (0,0), 0.3, color='white')\n",
        "plt.pie(per_class, labels=['N', 'S', 'V', 'F', 'Q'], colors=['tab:purple','tab:olive','tab:grey','tab:pink','tab:green'],autopct='%1.1f%%')\n",
        "p=plt.gcf()\n",
        "p.gca().add_artist(my_circle)\n",
        "#plt.title(\"Sampling in train data\")\n",
        "plt.show()"
      ],
      "metadata": {
        "colab": {
          "base_uri": "https://localhost:8080/",
          "height": 407
        },
        "id": "8PywSkciWD3n",
        "outputId": "532edcf2-5698-4107-bcff-b7f5888c0bdd"
      },
      "execution_count": null,
      "outputs": [
        {
          "output_type": "stream",
          "name": "stdout",
          "text": [
            "3.0    7000\n",
            "4.0    7000\n",
            "2.0    7000\n",
            "1.0    7000\n",
            "0.0    7000\n",
            "Name: 360, dtype: int64\n"
          ]
        },
        {
          "output_type": "display_data",
          "data": {
            "image/png": "[encoded data removed]",
            "text/plain": [
              "<Figure size 360x360 with 1 Axes>"
            ]
          },
          "metadata": {}
        }
      ]
    },
    {
      "cell_type": "code",
      "source": [
        "train_df.shape #sampled training data shape"
      ],
      "metadata": {
        "colab": {
          "base_uri": "https://localhost:8080/"
        },
        "id": "eUqjsbAvWGZv",
        "outputId": "1c383a25-dc10-4812-c12a-737049fee5b6"
      },
      "execution_count": null,
      "outputs": [
        {
          "output_type": "execute_result",
          "data": {
            "text/plain": [
              "(35000, 361)"
            ]
          },
          "metadata": {},
          "execution_count": 14
        }
      ]
    },
    {
      "cell_type": "code",
      "source": [
        "per_class = train_df[train_df.shape[1]-1].value_counts()\n",
        "per_class #checking the sampled train data class distribution"
      ],
      "metadata": {
        "colab": {
          "base_uri": "https://localhost:8080/"
        },
        "id": "oFZefby8WJR3",
        "outputId": "b644bce7-439b-4fe3-c3cd-9ca375322b69"
      },
      "execution_count": null,
      "outputs": [
        {
          "output_type": "execute_result",
          "data": {
            "text/plain": [
              "3.0    7000\n",
              "4.0    7000\n",
              "2.0    7000\n",
              "1.0    7000\n",
              "0.0    7000\n",
              "Name: 360, dtype: int64"
            ]
          },
          "metadata": {},
          "execution_count": 15
        }
      ]
    },
    {
      "cell_type": "markdown",
      "source": [
        "#Independent and Dependent variables in Test Data "
      ],
      "metadata": {
        "id": "CDzZUfZg1NMu"
      }
    },
    {
      "cell_type": "code",
      "source": [
        "#test data #hided from the model till evaluation\n",
        "test_x= test.iloc[:,:test.shape[1]-1].values\n",
        "test_x=test_x.reshape(len(test_x), test_x.shape[1],1) #reshaping to fit deep leanring models\n",
        "test_y= test[test.shape[1]-1] \n",
        "test_y=to_categorical(test_y) #one hot encoding"
      ],
      "metadata": {
        "id": "Bm5cp-YCWLQn"
      },
      "execution_count": null,
      "outputs": []
    },
    {
      "cell_type": "code",
      "source": [
        "print(\"test_x : \", np.shape(test_x)) #independent variables of test data\n",
        "print(\"test_y  : \", np.shape(test_y)) #dependent variables of test data"
      ],
      "metadata": {
        "colab": {
          "base_uri": "https://localhost:8080/"
        },
        "id": "b5o0ubwQWNQf",
        "outputId": "f673bec1-384f-4c52-e924-c21720a34a7d"
      },
      "execution_count": null,
      "outputs": [
        {
          "output_type": "stream",
          "name": "stdout",
          "text": [
            "test_x :  (20003, 360, 1)\n",
            "test_y  :  (20003, 5)\n"
          ]
        }
      ]
    },
    {
      "cell_type": "code",
      "source": [
        "per_class = test[test.shape[1]-1].value_counts()\n",
        "print(per_class)\n",
        "plt.figure(figsize=(5,5))\n",
        "#visualize test data class distribution\n",
        "my_circle=plt.Circle( (0,0), 0.3, color='white')\n",
        "plt.pie(per_class, labels=['N', 'S', 'V', 'F', 'Q'], colors=['tab:purple','tab:olive','tab:grey','tab:pink','tab:green'],autopct='%1.1f%%')\n",
        "p=plt.gcf()\n",
        "p.gca().add_artist(my_circle)\n",
        "plt.title(\"No sampling in test data\")\n",
        "plt.show()"
      ],
      "metadata": {
        "colab": {
          "base_uri": "https://localhost:8080/",
          "height": 423
        },
        "id": "Hb_AreAzWP24",
        "outputId": "1b65d08b-adaa-4e1e-f3a4-c326db89c2cb"
      },
      "execution_count": null,
      "outputs": [
        {
          "output_type": "stream",
          "name": "stdout",
          "text": [
            "0.0    14973\n",
            "1.0     1632\n",
            "2.0     1462\n",
            "4.0     1432\n",
            "3.0      504\n",
            "Name: 360, dtype: int64\n"
          ]
        },
        {
          "output_type": "display_data",
          "data": {
            "image/png": "[encoded data removed]",
            "text/plain": [
              "<Figure size 360x360 with 1 Axes>"
            ]
          },
          "metadata": {}
        }
      ]
    },
    {
      "cell_type": "markdown",
      "source": [
        "#Independent and dependent varibale in Training Data"
      ],
      "metadata": {
        "id": "qN_oBUodWVcw"
      }
    },
    {
      "cell_type": "code",
      "source": [
        "target_train=train_df[train_df.shape[1]-1] #label train\n",
        "#target_val=val[val.shape[1]-1] #labes test\n",
        "train_y=to_categorical(target_train)\n",
        "#val_y=to_categorical(target_val)\n",
        "print(np.shape(train_y))"
      ],
      "metadata": {
        "colab": {
          "base_uri": "https://localhost:8080/"
        },
        "id": "Y9C45fhoWf4A",
        "outputId": "57241623-b317-46e8-8e16-68f768359e1d"
      },
      "execution_count": null,
      "outputs": [
        {
          "output_type": "stream",
          "name": "stdout",
          "text": [
            "(35000, 5)\n"
          ]
        }
      ]
    },
    {
      "cell_type": "code",
      "source": [
        "train_x = train_df.iloc[:,:train_df.shape[1]-1].values\n",
        "#val_x = val.iloc[:,:val.shape[1]-1].values\n",
        "train_x = train_x.reshape(len(train_x), train_x.shape[1],1)\n",
        "#val_x = val_x.reshape(len(val_x), val_x.shape[1],1)\n",
        "print(np.shape(train_x))"
      ],
      "metadata": {
        "colab": {
          "base_uri": "https://localhost:8080/"
        },
        "id": "3EStUaLXWh15",
        "outputId": "ce18a017-376d-45e8-d650-85ef0ceace9b"
      },
      "execution_count": null,
      "outputs": [
        {
          "output_type": "stream",
          "name": "stdout",
          "text": [
            "(35000, 360, 1)\n"
          ]
        }
      ]
    },
    {
      "cell_type": "code",
      "source": [
        "print(\"train_x : \", np.shape(train_x)) #independent variables in test data\n",
        "print(\"train_y  : \", np.shape(train_y)) #dependent variable in test data\n",
        "#print(\"val x : \", np.shape(val_x))\n",
        "#print(\"val y  : \", np.shape(val_y))"
      ],
      "metadata": {
        "colab": {
          "base_uri": "https://localhost:8080/"
        },
        "id": "K-pR7xvxWj5g",
        "outputId": "e473b22e-937a-4df7-ceab-a31923e8b8a8"
      },
      "execution_count": null,
      "outputs": [
        {
          "output_type": "stream",
          "name": "stdout",
          "text": [
            "train_x :  (35000, 360, 1)\n",
            "train_y  :  (35000, 5)\n"
          ]
        }
      ]
    },
    {
      "cell_type": "markdown",
      "source": [
        "#CNN Model"
      ],
      "metadata": {
        "id": "Wu7qiTHNZ8YC"
      }
    },
    {
      "cell_type": "code",
      "source": [
        "from sklearn.metrics import accuracy_score, f1_score, precision_score, confusion_matrix\n",
        "from sklearn.model_selection import StratifiedKFold,KFold\n",
        "import sklearn.metrics as metrics"
      ],
      "metadata": {
        "id": "76bTKasfaJKL"
      },
      "execution_count": null,
      "outputs": []
    },
    {
      "cell_type": "code",
      "source": [
        "def cnn_model(): \n",
        "  model = Sequential()\n",
        "  #convolution layer 1\n",
        "  model.add(Conv1D(filters=16, kernel_size=13, padding='same', activation='relu',input_shape=(360, 1)))\n",
        "  model.add(AvgPool1D(pool_size=3, strides=2))\n",
        "  #convoulution layer 2\n",
        "  model.add(Conv1D(filters=32, kernel_size=15, padding='same', activation='relu'))\n",
        "  model.add(AvgPool1D(pool_size=3, strides=2))\n",
        "  #convolution layer 3\n",
        "  model.add(Conv1D(filters=64, kernel_size=17, padding='same', activation='relu'))\n",
        "  model.add(AvgPool1D(pool_size=3, strides=2))\n",
        "  #convolution layer 4\n",
        "  model.add(Conv1D(filters=128, kernel_size=19, padding='same', activation='relu'))\n",
        "  model.add(AvgPool1D(pool_size=3, strides=2))\n",
        "  #flattening layer \n",
        "  model.add(Flatten())\n",
        "  #Droupout threshold 0.5\n",
        "  model.add(Dropout(0.5))\n",
        "  #outer dense layer with 5 neurons represent 5 classes\n",
        "  model.add(Dense(5,kernel_regularizer=regularizers.l2(0.0001), bias_regularizer=regularizers.l2(0.0001)))\n",
        "  model.add(Softmax()) #probability of the classes\n",
        "    \n",
        "  model.compile(loss='categorical_crossentropy', optimizer=Adam(), metrics=['accuracy'])\n",
        "  model.summary()\n",
        "\n",
        "  return model\n",
        "\n",
        "cnn=cnn_model()\n"
      ],
      "metadata": {
        "colab": {
          "base_uri": "https://localhost:8080/"
        },
        "id": "FgJqIN5NXd-o",
        "outputId": "ca30a6df-f1f2-4d9e-f762-ba2b40b173ed"
      },
      "execution_count": null,
      "outputs": [
        {
          "output_type": "stream",
          "name": "stdout",
          "text": [
            "Model: \"sequential\"\n",
            "_________________________________________________________________\n",
            " Layer (type)                Output Shape              Param #   \n",
            "=================================================================\n",
            " conv1d (Conv1D)             (None, 360, 16)           224       \n",
            "                                                                 \n",
            " average_pooling1d (AverageP  (None, 179, 16)          0         \n",
            " ooling1D)                                                       \n",
            "                                                                 \n",
            " conv1d_1 (Conv1D)           (None, 179, 32)           7712      \n",
            "                                                                 \n",
            " average_pooling1d_1 (Averag  (None, 89, 32)           0         \n",
            " ePooling1D)                                                     \n",
            "                                                                 \n",
            " conv1d_2 (Conv1D)           (None, 89, 64)            34880     \n",
            "                                                                 \n",
            " average_pooling1d_2 (Averag  (None, 44, 64)           0         \n",
            " ePooling1D)                                                     \n",
            "                                                                 \n",
            " conv1d_3 (Conv1D)           (None, 44, 128)           155776    \n",
            "                                                                 \n",
            " average_pooling1d_3 (Averag  (None, 21, 128)          0         \n",
            " ePooling1D)                                                     \n",
            "                                                                 \n",
            " flatten (Flatten)           (None, 2688)              0         \n",
            "                                                                 \n",
            " dropout (Dropout)           (None, 2688)              0         \n",
            "                                                                 \n",
            " dense (Dense)               (None, 5)                 13445     \n",
            "                                                                 \n",
            " softmax (Softmax)           (None, 5)                 0         \n",
            "                                                                 \n",
            "=================================================================\n",
            "Total params: 212,037\n",
            "Trainable params: 212,037\n",
            "Non-trainable params: 0\n",
            "_________________________________________________________________\n"
          ]
        }
      ]
    },
    {
      "cell_type": "markdown",
      "source": [
        "##CNN model plot"
      ],
      "metadata": {
        "id": "X0p3r01V3Ud4"
      }
    },
    {
      "cell_type": "code",
      "source": [
        "from keras.utils.vis_utils import plot_model\n",
        "plot_model(cnn, to_file='model_plot.png', show_shapes=True, show_layer_names=True)"
      ],
      "metadata": {
        "colab": {
          "base_uri": "https://localhost:8080/",
          "height": 1000
        },
        "id": "jIU1NivWXAIv",
        "outputId": "de5ac3a4-2037-4127-94d9-256801b54e16"
      },
      "execution_count": null,
      "outputs": [
        {
          "output_type": "execute_result",
          "data": {
            "image/png": "[encoded data removed]",
            "text/plain": [
              "<IPython.core.display.Image object>"
            ]
          },
          "metadata": {},
          "execution_count": 23
        }
      ]
    },
    {
      "cell_type": "markdown",
      "source": [
        "##KFold cross validation"
      ],
      "metadata": {
        "id": "aCcPe0Rt3e0Z"
      }
    },
    {
      "cell_type": "code",
      "source": [
        "# Cross-Validate\n",
        "kf = KFold(5, shuffle=True, random_state=42)\n",
        "oos_y = []\n",
        "oos_pred = []\n",
        "\n",
        "acc_per_fold = []\n",
        "loss_per_fold = []\n",
        "rmse_per_fold=[]\n",
        "fold = 0\n",
        "for train, test in kf.split(train_x,train_y):\n",
        "    fold+=1\n",
        "    print(f\"Fold #{fold}\")\n",
        "        \n",
        "    x_train=train_x[train]\n",
        "    y_train=train_y[train]\n",
        "    x_test=train_x[test]\n",
        "    y_test=train_y[test]\n",
        "    \n",
        "    history=cnn.fit(x_train,y_train,validation_data=(x_test,y_test),verbose=0,epochs=10)\n",
        "    \n",
        "    #cnn.append(fit_and_evaluate(x_train,x_test,y_train,y_test))\n",
        "    print(\"=======\"*12, end=\"\\n\\n\\n\")\n",
        "    pred = cnn.predict(x_test)\n",
        "    \n",
        "    oos_y.append(y_test)\n",
        "    oos_pred.append(pred)  \n",
        "    \n",
        "\n",
        "\n",
        "    # Measure this fold's RMSE\n",
        "    score = np.sqrt(metrics.mean_squared_error(pred,y_test))\n",
        "    rmse_per_fold.append(score)\n",
        "    print(f\"Fold score (RMSE): {score}\")\n",
        "\n",
        "    # Generate generalization metrics\n",
        "    scores = cnn.evaluate(x_test,pred, verbose=0)\n",
        "    print(f'Score for fold {fold}: {cnn.metrics_names[0]} of {scores[0]}; {cnn.metrics_names[1]} of {scores[1]*100}%')\n",
        "    acc_per_fold.append(scores[1] * 100)\n",
        "    loss_per_fold.append(scores[0])\n",
        "\n",
        "    \n",
        " \n",
        "#Excetion time 1hr 5min\n"
      ],
      "metadata": {
        "colab": {
          "base_uri": "https://localhost:8080/"
        },
        "id": "4fT2Uyk5Zt5z",
        "outputId": "b97d627c-6098-4b2a-aa2b-c76669ab0532"
      },
      "execution_count": null,
      "outputs": [
        {
          "output_type": "stream",
          "name": "stdout",
          "text": [
            "Fold #1\n",
            "====================================================================================\n",
            "\n",
            "\n",
            "Fold score (RMSE): 0.04428451135754585\n",
            "Score for fold 1: loss of 0.017903536558151245; accuracy of 100.0%\n",
            "Fold #2\n",
            "====================================================================================\n",
            "\n",
            "\n",
            "Fold score (RMSE): 0.03447260707616806\n",
            "Score for fold 2: loss of 0.013071606867015362; accuracy of 100.0%\n",
            "Fold #3\n",
            "====================================================================================\n",
            "\n",
            "\n",
            "Fold score (RMSE): 0.03079649806022644\n",
            "Score for fold 3: loss of 0.010622743517160416; accuracy of 100.0%\n",
            "Fold #4\n",
            "====================================================================================\n",
            "\n",
            "\n",
            "Fold score (RMSE): 0.019867466762661934\n",
            "Score for fold 4: loss of 0.010924769565463066; accuracy of 100.0%\n",
            "Fold #5\n",
            "====================================================================================\n",
            "\n",
            "\n",
            "Fold score (RMSE): 0.028467869386076927\n",
            "Score for fold 5: loss of 0.009683978743851185; accuracy of 100.0%\n"
          ]
        }
      ]
    },
    {
      "cell_type": "code",
      "source": [
        "average_acc=sum(acc_per_fold)/5 #to find average accuracy across 5 folds \n",
        "average_loss=sum(loss_per_fold)/5 #to find average loss across 5 folds\n",
        "average_rmse=sum(rmse_per_fold)/5 # to find average rmse across 5 folds\n"
      ],
      "metadata": {
        "id": "ZyDeGwRlwYmH"
      },
      "execution_count": null,
      "outputs": []
    },
    {
      "cell_type": "markdown",
      "source": [
        "##Training data Evaluation summary"
      ],
      "metadata": {
        "id": "wBYfkZov3stB"
      }
    },
    {
      "cell_type": "code",
      "source": [
        "average_acc"
      ],
      "metadata": {
        "colab": {
          "base_uri": "https://localhost:8080/"
        },
        "id": "U82rA_ycmaoY",
        "outputId": "5abd2a16-5ee7-4d8d-dbac-0c1ef47af1ab"
      },
      "execution_count": null,
      "outputs": [
        {
          "output_type": "execute_result",
          "data": {
            "text/plain": [
              "100.0"
            ]
          },
          "metadata": {},
          "execution_count": 77
        }
      ]
    },
    {
      "cell_type": "code",
      "source": [
        "average_loss"
      ],
      "metadata": {
        "colab": {
          "base_uri": "https://localhost:8080/"
        },
        "id": "KnUuxMLpmdTI",
        "outputId": "c4754c78-0002-4e4a-e653-48754524f684"
      },
      "execution_count": null,
      "outputs": [
        {
          "output_type": "execute_result",
          "data": {
            "text/plain": [
              "0.012441327050328254"
            ]
          },
          "metadata": {},
          "execution_count": 78
        }
      ]
    },
    {
      "cell_type": "code",
      "source": [
        "average_rmse"
      ],
      "metadata": {
        "colab": {
          "base_uri": "https://localhost:8080/"
        },
        "id": "MM3HjELjmic4",
        "outputId": "4e72c4d2-64a1-4c58-c4a5-a6dd189d0790"
      },
      "execution_count": null,
      "outputs": [
        {
          "output_type": "execute_result",
          "data": {
            "text/plain": [
              "0.03157779052853584"
            ]
          },
          "metadata": {},
          "execution_count": 79
        }
      ]
    },
    {
      "cell_type": "markdown",
      "source": [
        "##CNN Test Data Evaluation"
      ],
      "metadata": {
        "id": "yGbdEevu2X4r"
      }
    },
    {
      "cell_type": "markdown",
      "source": [
        "###Test Loss and Accuracy"
      ],
      "metadata": {
        "id": "6FnGR0mn32FR"
      }
    },
    {
      "cell_type": "code",
      "source": [
        "score = cnn.evaluate(test_x, test_y) #evaluating the models with the test data\n",
        "\n",
        "print('Test Loss:', score[0])\n",
        "print('Test accuracy:', score[1])"
      ],
      "metadata": {
        "colab": {
          "base_uri": "https://localhost:8080/"
        },
        "id": "9mnaVQJSe-Wk",
        "outputId": "ecde8a5f-825c-4e35-eceb-730494411c7a"
      },
      "execution_count": null,
      "outputs": [
        {
          "output_type": "stream",
          "name": "stdout",
          "text": [
            "626/626 [==============================] - 13s 21ms/step - loss: 0.0546 - accuracy: 0.9916\n",
            "Test Loss: 0.054610349237918854\n",
            "Test accuracy: 0.991601288318634\n"
          ]
        }
      ]
    },
    {
      "cell_type": "code",
      "source": [
        "y_pred = cnn.predict(test_x, batch_size=1000) #predictions from the cnn model "
      ],
      "metadata": {
        "id": "6Vycltu_fAas"
      },
      "execution_count": null,
      "outputs": []
    },
    {
      "cell_type": "markdown",
      "source": [
        "###Test Data classification report"
      ],
      "metadata": {
        "id": "IHRUZD7s35jZ"
      }
    },
    {
      "cell_type": "code",
      "source": [
        "from sklearn.metrics import accuracy_score, classification_report, confusion_matrix, label_ranking_average_precision_score, label_ranking_loss, coverage_error \n",
        "\n",
        "print(classification_report(test_y.argmax(axis=1), y_pred.argmax(axis=1)))"
      ],
      "metadata": {
        "colab": {
          "base_uri": "https://localhost:8080/"
        },
        "id": "Bsd10DslfCdM",
        "outputId": "afd6c1f1-f46a-47ab-b3b2-3326bffade53"
      },
      "execution_count": null,
      "outputs": [
        {
          "output_type": "stream",
          "name": "stdout",
          "text": [
            "              precision    recall  f1-score   support\n",
            "\n",
            "           0       1.00      0.99      0.99     14921\n",
            "           1       0.99      1.00      1.00      1567\n",
            "           2       0.98      1.00      0.99      1517\n",
            "           3       0.89      0.98      0.93       516\n",
            "           4       0.97      1.00      0.98      1482\n",
            "\n",
            "    accuracy                           0.99     20003\n",
            "   macro avg       0.97      0.99      0.98     20003\n",
            "weighted avg       0.99      0.99      0.99     20003\n",
            "\n"
          ]
        }
      ]
    },
    {
      "cell_type": "markdown",
      "source": [
        "###Test Data Confusion Matrix"
      ],
      "metadata": {
        "id": "Lm-zVrpL4BGp"
      }
    },
    {
      "cell_type": "code",
      "source": [
        "import seaborn as sns\n",
        "plt.figure(figsize=(5,2)) \n",
        "y_true=[]\n",
        "for element in test_y:\n",
        "    y_true.append(np.argmax(element))\n",
        "prediction_proba=cnn.predict(test_x)\n",
        "prediction=np.argmax(prediction_proba,axis=1)\n",
        "model_cf_matrix = confusion_matrix(y_true, prediction) \n",
        "sns.heatmap(model_cf_matrix/np.sum(model_cf_matrix), annot=True,fmt='.3%', cmap='Blues')"
      ],
      "metadata": {
        "colab": {
          "base_uri": "https://localhost:8080/",
          "height": 174
        },
        "id": "vvLa2qGQfFFF",
        "outputId": "b2cbed30-5a87-4bd1-eb78-4f60a4901b4f"
      },
      "execution_count": null,
      "outputs": [
        {
          "output_type": "execute_result",
          "data": {
            "text/plain": [
              "<matplotlib.axes._subplots.AxesSubplot at 0x7fb2add78650>"
            ]
          },
          "metadata": {},
          "execution_count": 94
        },
        {
          "output_type": "display_data",
          "data": {
            "image/png": "[encoded data removed]",
            "text/plain": [
              "<Figure size 360x144 with 2 Axes>"
            ]
          },
          "metadata": {
            "needs_background": "light"
          }
        }
      ]
    },
    {
      "cell_type": "code",
      "source": [
        "# Measure this RMSE\n",
        "score = np.sqrt(metrics.mean_squared_error(y_true,prediction))\n",
        "print(f\"RMSE Score: {score}\")"
      ],
      "metadata": {
        "colab": {
          "base_uri": "https://localhost:8080/"
        },
        "id": "6daT7Zvf2zdz",
        "outputId": "c725bfd0-dd02-4237-c7ad-754d62d818fe"
      },
      "execution_count": null,
      "outputs": [
        {
          "output_type": "stream",
          "name": "stdout",
          "text": [
            "RMSE Score: 0.2857232128071667\n"
          ]
        }
      ]
    },
    {
      "cell_type": "markdown",
      "source": [
        "#LSTM Model"
      ],
      "metadata": {
        "id": "WOeFBl7K7bWL"
      }
    },
    {
      "cell_type": "code",
      "source": [
        "def get_lstm():\n",
        "    lstm_model = Sequential()\n",
        "    #one layer of LSTM\n",
        "    lstm_model.add(LSTM(64, input_shape=(360,1)))\n",
        "    #Fully connected dense layer\n",
        "    lstm_model.add(Dense(128, activation = 'relu'))\n",
        "    #dropout threshold 0.3\n",
        "    lstm_model.add(Dropout(0.3))\n",
        "    #outer dense layer with 5 neurons\n",
        "    lstm_model.add(Dense(5, activation = 'softmax'))\n",
        "    \n",
        "    lstm_model.compile(optimizer='adam', loss='categorical_crossentropy', metrics=['accuracy'])\n",
        "    lstm_model.summary()\n",
        "    return lstm_model\n",
        "\n",
        "lstm=get_lstm()"
      ],
      "metadata": {
        "id": "BkDTCj0WpeiY",
        "colab": {
          "base_uri": "https://localhost:8080/"
        },
        "outputId": "3005ea90-af39-441c-df74-fb79671503e8"
      },
      "execution_count": null,
      "outputs": [
        {
          "output_type": "stream",
          "name": "stdout",
          "text": [
            "Model: \"sequential_1\"\n",
            "_________________________________________________________________\n",
            " Layer (type)                Output Shape              Param #   \n",
            "=================================================================\n",
            " lstm (LSTM)                 (None, 64)                16896     \n",
            "                                                                 \n",
            " dense_1 (Dense)             (None, 128)               8320      \n",
            "                                                                 \n",
            " dropout_1 (Dropout)         (None, 128)               0         \n",
            "                                                                 \n",
            " dense_2 (Dense)             (None, 5)                 645       \n",
            "                                                                 \n",
            "=================================================================\n",
            "Total params: 25,861\n",
            "Trainable params: 25,861\n",
            "Non-trainable params: 0\n",
            "_________________________________________________________________\n"
          ]
        }
      ]
    },
    {
      "cell_type": "markdown",
      "source": [
        "##LSTM model plot"
      ],
      "metadata": {
        "id": "8soehjVw_qgG"
      }
    },
    {
      "cell_type": "code",
      "source": [
        "plot_model(lstm, to_file='lstm_plot.png', show_shapes=True, show_layer_names=True)"
      ],
      "metadata": {
        "id": "qQTSF17__ue1",
        "colab": {
          "base_uri": "https://localhost:8080/",
          "height": 533
        },
        "outputId": "3de88fbf-30a8-405f-8a08-4a4ed3608dab"
      },
      "execution_count": null,
      "outputs": [
        {
          "output_type": "execute_result",
          "data": {
            "image/png": "[encoded data removed]",
            "text/plain": [
              "<IPython.core.display.Image object>"
            ]
          },
          "metadata": {},
          "execution_count": 35
        }
      ]
    },
    {
      "cell_type": "markdown",
      "source": [
        "##KFold Cross Validation"
      ],
      "metadata": {
        "id": "F2yyGlrm-kWG"
      }
    },
    {
      "cell_type": "code",
      "source": [
        "# Cross-Validate\n",
        "kf = KFold(5, shuffle=True, random_state=42) \n",
        "oos_y = []\n",
        "oos_pred = []\n",
        "\n",
        "lstm_acc_per_fold = []\n",
        "lstm_loss_per_fold = []\n",
        "lstm_rmse_per_fold=[]\n",
        "fold = 0\n",
        "for train, test in kf.split(train_x,train_y):\n",
        "    fold+=1\n",
        "    print(f\"Fold #{fold}\")\n",
        "        \n",
        "    x_train=train_x[train]\n",
        "    y_train=train_y[train]\n",
        "    x_test=train_x[test]\n",
        "    y_test=train_y[test]\n",
        "    \n",
        "    history=lstm.fit(x_train,y_train,validation_data=(x_test,y_test),verbose=0,epochs=10)\n",
        "    \n",
        "    #cnn.append(fit_and_evaluate(x_train,x_test,y_train,y_test))\n",
        "    print(\"=======\"*12, end=\"\\n\\n\\n\")\n",
        "    pred = lstm.predict(x_test)\n",
        "    \n",
        "    oos_y.append(y_test)\n",
        "    oos_pred.append(pred)  \n",
        "    \n",
        "\n",
        "\n",
        "    # RMSE with the validation test\n",
        "    score = np.sqrt(metrics.mean_squared_error(pred,y_test))\n",
        "    lstm_rmse_per_fold.append(score)\n",
        "    print(f\"Fold score (RMSE): {score}\")\n",
        "\n",
        "    # LSTM evaluation scores with the validation test\n",
        "    scores = lstm.evaluate(x_test,pred, verbose=0)\n",
        "    print(f'Score for fold {fold}: {lstm.metrics_names[0]} of {scores[0]}; {lstm.metrics_names[1]} of {scores[1]*100}%')\n",
        "    lstm_acc_per_fold.append(scores[1] * 100)\n",
        "    lstm_loss_per_fold.append(scores[0])\n",
        "\n",
        "    \n",
        " \n",
        "#Execution time 1 hr 25 mins"
      ],
      "metadata": {
        "colab": {
          "base_uri": "https://localhost:8080/"
        },
        "id": "kAKytUj8y0My",
        "outputId": "4659c135-6f48-44c6-87fe-5664160c2230"
      },
      "execution_count": null,
      "outputs": [
        {
          "output_type": "stream",
          "name": "stdout",
          "text": [
            "Fold #1\n",
            "====================================================================================\n",
            "\n",
            "\n",
            "Fold score (RMSE): 0.3921835422515869\n",
            "Score for fold 1: loss of 1.5506789684295654; accuracy of 100.0%\n",
            "Fold #2\n",
            "====================================================================================\n",
            "\n",
            "\n",
            "Fold score (RMSE): 0.28612402081489563\n",
            "Score for fold 2: loss of 0.8666079044342041; accuracy of 100.0%\n",
            "Fold #3\n",
            "====================================================================================\n",
            "\n",
            "\n",
            "Fold score (RMSE): 0.224198579788208\n",
            "Score for fold 3: loss of 0.5140464901924133; accuracy of 100.0%\n",
            "Fold #4\n",
            "====================================================================================\n",
            "\n",
            "\n",
            "Fold score (RMSE): 0.2622559666633606\n",
            "Score for fold 4: loss of 0.7752093076705933; accuracy of 100.0%\n",
            "Fold #5\n",
            "====================================================================================\n",
            "\n",
            "\n",
            "Fold score (RMSE): 0.2174302041530609\n",
            "Score for fold 5: loss of 0.45254409313201904; accuracy of 100.0%\n"
          ]
        }
      ]
    },
    {
      "cell_type": "markdown",
      "source": [
        "##Training data Evaluation Summary"
      ],
      "metadata": {
        "id": "7u4Womd-_FYd"
      }
    },
    {
      "cell_type": "code",
      "source": [
        "lstm_average_acc=sum(acc_per_fold)/5 #average of LSTM accuracy across 5 fold\n",
        "lstm_average_loss=sum(loss_per_fold)/5 #average of LSTM loss across 5 fold\n",
        "lstm_average_rmse=sum(rmse_per_fold)/5 #average of LSTM rmse across 5 fold"
      ],
      "metadata": {
        "id": "dCOBtu65zzTE"
      },
      "execution_count": null,
      "outputs": []
    },
    {
      "cell_type": "code",
      "source": [
        "lstm_average_acc"
      ],
      "metadata": {
        "colab": {
          "base_uri": "https://localhost:8080/"
        },
        "id": "RX8vNWlv33lB",
        "outputId": "2f3c4d0f-fc24-4c98-e1b0-537f4751534c"
      },
      "execution_count": null,
      "outputs": [
        {
          "output_type": "execute_result",
          "data": {
            "text/plain": [
              "120.0"
            ]
          },
          "metadata": {},
          "execution_count": 98
        }
      ]
    },
    {
      "cell_type": "code",
      "source": [
        "lstm_average_loss"
      ],
      "metadata": {
        "colab": {
          "base_uri": "https://localhost:8080/"
        },
        "id": "jMzshnbP366R",
        "outputId": "178936a8-ca0d-463d-adc9-f6e620f440ce"
      },
      "execution_count": null,
      "outputs": [
        {
          "output_type": "execute_result",
          "data": {
            "text/plain": [
              "0.014929592460393906"
            ]
          },
          "metadata": {},
          "execution_count": 99
        }
      ]
    },
    {
      "cell_type": "code",
      "source": [
        "lstm_average_rmse"
      ],
      "metadata": {
        "colab": {
          "base_uri": "https://localhost:8080/"
        },
        "id": "MBINM4B5388x",
        "outputId": "e88cbdd6-b505-42bf-c6f8-ea76193d64b4"
      },
      "execution_count": null,
      "outputs": [
        {
          "output_type": "execute_result",
          "data": {
            "text/plain": [
              "0.03789334863424301"
            ]
          },
          "metadata": {},
          "execution_count": 100
        }
      ]
    },
    {
      "cell_type": "markdown",
      "source": [
        "##LSTM Test Data Evaluation"
      ],
      "metadata": {
        "id": "nA7gO_PN_MB1"
      }
    },
    {
      "cell_type": "markdown",
      "source": [
        "###Test Loss and Accuracy"
      ],
      "metadata": {
        "id": "5CQZV-kE_UGf"
      }
    },
    {
      "cell_type": "code",
      "source": [
        "score = lstm.evaluate(test_x, test_y) #evaluation of LSTM on test data\n",
        "\n",
        "print('Test Loss:', score[0])\n",
        "print('Test accuracy:', score[1])"
      ],
      "metadata": {
        "colab": {
          "base_uri": "https://localhost:8080/"
        },
        "id": "ZqavOdWc4VWy",
        "outputId": "9e7528b8-d8ec-4418-b4f5-55cb920ba3e1"
      },
      "execution_count": null,
      "outputs": [
        {
          "output_type": "stream",
          "name": "stdout",
          "text": [
            "626/626 [==============================] - 47s 75ms/step - loss: 0.4839 - accuracy: 0.8764\n",
            "Test Loss: 0.48391321301460266\n",
            "Test accuracy: 0.876368522644043\n"
          ]
        }
      ]
    },
    {
      "cell_type": "code",
      "source": [
        "y_pred = lstm.predict(test_x, batch_size=1000) #prediction by the LSTM model"
      ],
      "metadata": {
        "id": "EhFUNpdD57ar"
      },
      "execution_count": null,
      "outputs": []
    },
    {
      "cell_type": "markdown",
      "source": [
        "###Test Data Classification Report"
      ],
      "metadata": {
        "id": "FKQi_-a2_X02"
      }
    },
    {
      "cell_type": "code",
      "source": [
        "from sklearn.metrics import accuracy_score, classification_report, confusion_matrix, label_ranking_average_precision_score, label_ranking_loss, coverage_error \n",
        "\n",
        "print(classification_report(test_y.argmax(axis=1), y_pred.argmax(axis=1)))"
      ],
      "metadata": {
        "colab": {
          "base_uri": "https://localhost:8080/"
        },
        "id": "jAIod1ad59bb",
        "outputId": "c3ea60e7-bc5d-4006-fac9-daed7f630b83"
      },
      "execution_count": null,
      "outputs": [
        {
          "output_type": "stream",
          "name": "stdout",
          "text": [
            "              precision    recall  f1-score   support\n",
            "\n",
            "           0       0.98      0.88      0.93     14921\n",
            "           1       0.79      0.93      0.86      1567\n",
            "           2       0.57      0.92      0.70      1517\n",
            "           3       0.39      0.68      0.50       516\n",
            "           4       0.83      0.81      0.82      1482\n",
            "\n",
            "    accuracy                           0.88     20003\n",
            "   macro avg       0.71      0.85      0.76     20003\n",
            "weighted avg       0.91      0.88      0.89     20003\n",
            "\n"
          ]
        }
      ]
    },
    {
      "cell_type": "markdown",
      "source": [
        "###Test Data Confusion matrix"
      ],
      "metadata": {
        "id": "eo6ercHL_dB1"
      }
    },
    {
      "cell_type": "code",
      "source": [
        "y_true=[]\n",
        "plt.figure(figsize=(5,2))\n",
        "\n",
        "for element in test_y:\n",
        "    y_true.append(np.argmax(element))\n",
        "prediction_proba=lstm.predict(test_x)\n",
        "prediction=np.argmax(prediction_proba,axis=1)\n",
        "model_cf_matrix = confusion_matrix(y_true, prediction)\n",
        "sns.heatmap(model_cf_matrix/np.sum(model_cf_matrix), annot=True,fmt='.3%', cmap='Blues')"
      ],
      "metadata": {
        "colab": {
          "base_uri": "https://localhost:8080/",
          "height": 174
        },
        "id": "gD0dSwmU6AqL",
        "outputId": "6fb37809-a9bb-49e7-94b1-16b8e7c975b1"
      },
      "execution_count": null,
      "outputs": [
        {
          "output_type": "execute_result",
          "data": {
            "text/plain": [
              "<matplotlib.axes._subplots.AxesSubplot at 0x7fb2ae56c810>"
            ]
          },
          "metadata": {},
          "execution_count": 104
        },
        {
          "output_type": "display_data",
          "data": {
            "image/png": "[encoded data removed]",
            "text/plain": [
              "<Figure size 360x144 with 2 Axes>"
            ]
          },
          "metadata": {
            "needs_background": "light"
          }
        }
      ]
    },
    {
      "cell_type": "code",
      "source": [
        "\n",
        "score = np.sqrt(metrics.mean_squared_error(y_true,prediction))\n",
        "print(f\"RMSE Score: {score}\")"
      ],
      "metadata": {
        "colab": {
          "base_uri": "https://localhost:8080/"
        },
        "id": "9QP26Ak64aAY",
        "outputId": "f2c317b7-50e3-4e4f-a285-59486e1d5435"
      },
      "execution_count": null,
      "outputs": [
        {
          "output_type": "stream",
          "name": "stdout",
          "text": [
            "RMSE Score: 0.8643424881431426\n"
          ]
        }
      ]
    },
    {
      "cell_type": "markdown",
      "source": [
        "#GRU Model"
      ],
      "metadata": {
        "id": "1_Dalt3V7YWl"
      }
    },
    {
      "cell_type": "code",
      "source": [
        "def get_gru():\n",
        "    gru_model = Sequential()\n",
        "    #single layer GRU\n",
        "    gru_model.add(GRU(64, input_shape=(360,1)))\n",
        "    #fully connected outer layer\n",
        "    gru_model.add(Dense(128, activation = 'relu'))\n",
        "    #droput threshold 0.3\n",
        "    gru_model.add(Dropout(0.3))\n",
        "    #outer layer with 5 neurons\n",
        "    gru_model.add(Dense(5, activation = 'softmax'))\n",
        "    \n",
        "    gru_model.compile(optimizer='adam', loss='categorical_crossentropy', metrics=['accuracy'])\n",
        "    gru_model.summary()\n",
        "    return gru_model\n",
        "\n",
        "gru=get_gru()"
      ],
      "metadata": {
        "id": "auyGP9Sj7gdU",
        "colab": {
          "base_uri": "https://localhost:8080/"
        },
        "outputId": "6cdbf71c-9e30-4a38-d195-c7be3f847c33"
      },
      "execution_count": null,
      "outputs": [
        {
          "output_type": "stream",
          "name": "stdout",
          "text": [
            "Model: \"sequential\"\n",
            "_________________________________________________________________\n",
            " Layer (type)                Output Shape              Param #   \n",
            "=================================================================\n",
            " gru (GRU)                   (None, 64)                12864     \n",
            "                                                                 \n",
            " dense (Dense)               (None, 128)               8320      \n",
            "                                                                 \n",
            " dropout (Dropout)           (None, 128)               0         \n",
            "                                                                 \n",
            " dense_1 (Dense)             (None, 5)                 645       \n",
            "                                                                 \n",
            "=================================================================\n",
            "Total params: 21,829\n",
            "Trainable params: 21,829\n",
            "Non-trainable params: 0\n",
            "_________________________________________________________________\n"
          ]
        }
      ]
    },
    {
      "cell_type": "markdown",
      "source": [
        "##GRU Model Plot"
      ],
      "metadata": {
        "id": "oeHwHoPQAJkt"
      }
    },
    {
      "cell_type": "code",
      "source": [
        "plot_model(gru, to_file='model_plot.png', show_shapes=True, show_layer_names=True)"
      ],
      "metadata": {
        "id": "Vndgv6EKACpl",
        "colab": {
          "base_uri": "https://localhost:8080/",
          "height": 533
        },
        "outputId": "0295a79b-0a3c-4ab8-ba8c-5cf0e3ddaca5"
      },
      "execution_count": null,
      "outputs": [
        {
          "output_type": "execute_result",
          "data": {
            "image/png": "[encoded data removed]",
            "text/plain": [
              "<IPython.core.display.Image object>"
            ]
          },
          "metadata": {},
          "execution_count": 44
        }
      ]
    },
    {
      "cell_type": "markdown",
      "source": [
        "##KFold cross Validation"
      ],
      "metadata": {
        "id": "mF09XofaAV9l"
      }
    },
    {
      "cell_type": "code",
      "source": [
        "# Cross-Validate\n",
        "kf = KFold(5, shuffle=True, random_state=42) \n",
        "oos_y = []\n",
        "oos_pred = []\n",
        "\n",
        "gru_acc_per_fold = []\n",
        "gru_loss_per_fold = []\n",
        "gru_rmse_per_fold=[]\n",
        "fold = 0\n",
        "for train, test in kf.split(train_x,train_y):\n",
        "    fold+=1\n",
        "    print(f\"Fold #{fold}\")\n",
        "        \n",
        "    x_train=train_x[train]\n",
        "    y_train=train_y[train]\n",
        "    x_test=train_x[test]\n",
        "    y_test=train_y[test]\n",
        "    \n",
        "    history=gru.fit(x_train,y_train,validation_data=(x_test,y_test),verbose=0,epochs=10)\n",
        "    \n",
        "    #cnn.append(fit_and_evaluate(x_train,x_test,y_train,y_test))\n",
        "    print(\"=======\"*12, end=\"\\n\\n\\n\")\n",
        "    pred = gru.predict(x_test)\n",
        "    \n",
        "    oos_y.append(y_test)\n",
        "    oos_pred.append(pred)  \n",
        "    \n",
        "\n",
        "#rmse scores for GRU\n",
        "    score = np.sqrt(metrics.mean_squared_error(pred,y_test))\n",
        "    gru_rmse_per_fold.append(score)\n",
        "    print(f\"Fold score (RMSE): {score}\")\n",
        "\n",
        "    #GRU evaluation scores\n",
        "    scores = gru.evaluate(x_test,pred, verbose=0)\n",
        "    print(f'Score for fold {fold}: {gru.metrics_names[0]} of {scores[0]}; {gru.metrics_names[1]} of {scores[1]*100}%')\n",
        "    gru_acc_per_fold.append(scores[1] * 100)\n",
        "    gru_loss_per_fold.append(scores[0])\n",
        "\n",
        "#execution time 1 hr 40 mins"
      ],
      "metadata": {
        "colab": {
          "base_uri": "https://localhost:8080/"
        },
        "id": "Yr3xO6LP7oM9",
        "outputId": "8beda0da-130d-464f-ec65-df62332f2df7"
      },
      "execution_count": null,
      "outputs": [
        {
          "output_type": "stream",
          "name": "stdout",
          "text": [
            "Fold #1\n",
            "====================================================================================\n",
            "\n",
            "\n",
            "Fold score (RMSE): 0.19267816841602325\n",
            "Score for fold 1: loss of 0.33088359236717224; accuracy of 100.0%\n",
            "Fold #2\n",
            "====================================================================================\n",
            "\n",
            "\n",
            "Fold score (RMSE): 0.13655471801757812\n",
            "Score for fold 2: loss of 0.18829283118247986; accuracy of 100.0%\n",
            "Fold #3\n",
            "====================================================================================\n",
            "\n",
            "\n",
            "Fold score (RMSE): 0.12072137743234634\n",
            "Score for fold 3: loss of 0.12091086804866791; accuracy of 100.0%\n",
            "Fold #4\n",
            "====================================================================================\n",
            "\n",
            "\n",
            "Fold score (RMSE): 0.11064434051513672\n",
            "Score for fold 4: loss of 0.10301440954208374; accuracy of 100.0%\n",
            "Fold #5\n",
            "====================================================================================\n",
            "\n",
            "\n",
            "Fold score (RMSE): 0.10682489722967148\n",
            "Score for fold 5: loss of 0.10526067018508911; accuracy of 100.0%\n"
          ]
        }
      ]
    },
    {
      "cell_type": "markdown",
      "source": [
        "##Training Data Evaluation summary"
      ],
      "metadata": {
        "id": "F8zk_NoMAbjl"
      }
    },
    {
      "cell_type": "code",
      "source": [
        "gru_average_acc=sum(gru_acc_per_fold)/5 #GRU Average Accuracy\n",
        "gru_average_loss=sum(gru_loss_per_fold)/5 #GRU average Loss\n",
        "gru_average_rmse=sum(gru_rmse_per_fold)/5 #GRU average rmse"
      ],
      "metadata": {
        "id": "0Xe50GvA72x0"
      },
      "execution_count": null,
      "outputs": []
    },
    {
      "cell_type": "code",
      "source": [
        "gru_average_acc"
      ],
      "metadata": {
        "id": "o_UykDna43-n",
        "colab": {
          "base_uri": "https://localhost:8080/"
        },
        "outputId": "d3263611-e137-453b-ad60-0f44a6bb623c"
      },
      "execution_count": null,
      "outputs": [
        {
          "output_type": "execute_result",
          "data": {
            "text/plain": [
              "100.0"
            ]
          },
          "metadata": {},
          "execution_count": 26
        }
      ]
    },
    {
      "cell_type": "code",
      "source": [
        "gru_average_loss"
      ],
      "metadata": {
        "id": "H-cLVOsW458X",
        "colab": {
          "base_uri": "https://localhost:8080/"
        },
        "outputId": "2306c29c-5ff2-4669-f0b8-9e85d3dfeab6"
      },
      "execution_count": null,
      "outputs": [
        {
          "output_type": "execute_result",
          "data": {
            "text/plain": [
              "0.16967247426509857"
            ]
          },
          "metadata": {},
          "execution_count": 27
        }
      ]
    },
    {
      "cell_type": "code",
      "source": [
        "gru_average_rmse"
      ],
      "metadata": {
        "id": "RYD186wq48L_",
        "colab": {
          "base_uri": "https://localhost:8080/"
        },
        "outputId": "de2d8d03-dbb6-4e5c-f6e8-425fe0c24ec0"
      },
      "execution_count": null,
      "outputs": [
        {
          "output_type": "execute_result",
          "data": {
            "text/plain": [
              "0.13348470032215118"
            ]
          },
          "metadata": {},
          "execution_count": 28
        }
      ]
    },
    {
      "cell_type": "markdown",
      "source": [
        "##GRU Test Data Evaluation"
      ],
      "metadata": {
        "id": "Axnhs_P9Aeg1"
      }
    },
    {
      "cell_type": "markdown",
      "source": [
        "###Test Loss and Accuracy"
      ],
      "metadata": {
        "id": "kI21DXQnA3En"
      }
    },
    {
      "cell_type": "code",
      "source": [
        "score = gru.evaluate(test_x, test_y) #Evaluation of GRU in test data\n",
        "\n",
        "print('Test Loss:', score[0])\n",
        "print('Test accuracy:', score[1])"
      ],
      "metadata": {
        "id": "54wMdaCy8Ab1",
        "colab": {
          "base_uri": "https://localhost:8080/"
        },
        "outputId": "a9551901-f27d-4c20-d593-c067ce9f0552"
      },
      "execution_count": null,
      "outputs": [
        {
          "output_type": "stream",
          "name": "stdout",
          "text": [
            "626/626 [==============================] - 17s 27ms/step - loss: 0.2486 - accuracy: 0.9266\n",
            "Test Loss: 0.24857035279273987\n",
            "Test accuracy: 0.9265609979629517\n"
          ]
        }
      ]
    },
    {
      "cell_type": "code",
      "source": [
        "y_pred = gru.predict(test_x, batch_size=1000) #GRU model prediction"
      ],
      "metadata": {
        "id": "zI6cnWGA8qJ-"
      },
      "execution_count": null,
      "outputs": []
    },
    {
      "cell_type": "markdown",
      "source": [
        "###Test Data classification Report"
      ],
      "metadata": {
        "id": "bsnrRKC_AmaV"
      }
    },
    {
      "cell_type": "code",
      "source": [
        "from sklearn.metrics import accuracy_score, classification_report, confusion_matrix, label_ranking_average_precision_score, label_ranking_loss, coverage_error \n",
        "\n",
        "print(classification_report(test_y.argmax(axis=1), y_pred.argmax(axis=1)))"
      ],
      "metadata": {
        "id": "CdrAZIfQ8rbd",
        "colab": {
          "base_uri": "https://localhost:8080/"
        },
        "outputId": "d1605068-b24c-48cf-cc11-dd67627691fa"
      },
      "execution_count": null,
      "outputs": [
        {
          "output_type": "stream",
          "name": "stdout",
          "text": [
            "              precision    recall  f1-score   support\n",
            "\n",
            "           0       0.99      0.91      0.95     14973\n",
            "           1       0.93      0.98      0.96      1632\n",
            "           2       0.93      0.99      0.96      1462\n",
            "           3       0.33      0.90      0.48       504\n",
            "           4       0.86      0.97      0.91      1432\n",
            "\n",
            "    accuracy                           0.93     20003\n",
            "   macro avg       0.81      0.95      0.85     20003\n",
            "weighted avg       0.96      0.93      0.94     20003\n",
            "\n"
          ]
        }
      ]
    },
    {
      "cell_type": "markdown",
      "source": [
        "###Test Data confusion matrix"
      ],
      "metadata": {
        "id": "0-0W6I1JAuXV"
      }
    },
    {
      "cell_type": "code",
      "source": [
        "import seaborn as sns\n",
        "y_true=[]\n",
        "plt.figure(figsize=(5,2))\n",
        "for element in test_y:\n",
        "    y_true.append(np.argmax(element))\n",
        "prediction_proba=gru.predict(test_x)\n",
        "prediction=np.argmax(prediction_proba,axis=1)\n",
        "model_cf_matrix = confusion_matrix(y_true, prediction)\n",
        "sns.heatmap(model_cf_matrix/np.sum(model_cf_matrix), annot=True,fmt='.3%', cmap='Blues')"
      ],
      "metadata": {
        "id": "F1UaMK0A8tVl",
        "colab": {
          "base_uri": "https://localhost:8080/",
          "height": 174
        },
        "outputId": "38cc8455-d25a-44d8-8891-c74677f7ebe2"
      },
      "execution_count": null,
      "outputs": [
        {
          "output_type": "execute_result",
          "data": {
            "text/plain": [
              "<matplotlib.axes._subplots.AxesSubplot at 0x7f5d68c6e110>"
            ]
          },
          "metadata": {},
          "execution_count": 32
        },
        {
          "output_type": "display_data",
          "data": {
            "image/png": "[encoded data removed]",
            "text/plain": [
              "<Figure size 360x144 with 2 Axes>"
            ]
          },
          "metadata": {
            "needs_background": "light"
          }
        }
      ]
    },
    {
      "cell_type": "code",
      "source": [
        "#RMSE of GRU\n",
        "score = np.sqrt(metrics.mean_squared_error(y_true,prediction))\n",
        "print(f\"RMSE Score: {score}\")"
      ],
      "metadata": {
        "id": "ib7-RM8z4cWI",
        "colab": {
          "base_uri": "https://localhost:8080/"
        },
        "outputId": "8523b10d-5e51-4059-dd61-a927b40a5651"
      },
      "execution_count": null,
      "outputs": [
        {
          "output_type": "stream",
          "name": "stdout",
          "text": [
            "RMSE Score: 0.8052345866820809\n"
          ]
        }
      ]
    },
    {
      "cell_type": "markdown",
      "source": [
        "#Acknowlegments\n",
        "\n",
        "\n",
        "1. Wu M, Lu Y, Yang W and Wong SY (2021) A Study on Arrhythmia via ECG Signal Classification Using the Convolutional Neural Network. Front. Comput. Neurosci. 14:564015. doi: 10.3389/fncom.2020.564015\n",
        "2. https://www.kaggle.com/yomnahesham/cse616-final-project\n",
        "3.   https://github.com/PiasTanmoy/Conference-IVPR-5-ECG-Arrhythmia-Classification-Paper-2021/blob/main/Code/ecg_arrhythmia_classification.ipynb\n",
        "4. https://www.kaggle.com/coni57/model-from-arxiv-1805-00794\n",
        "5. https://github.com/SadmanSakib93/Stratified-k-fold-cross-validation-Image-classification-keras/blob/master/stratified_K_fold_CV.ipynb\n",
        "\n"
      ],
      "metadata": {
        "id": "OabQHoX2kPX8"
      }
    }
  ],
  "metadata": {
    "accelerator": "GPU",
    "colab": {
      "name": "MAIN_Arrhythmia_5fold.ipynb",
      "provenance": [],
      "collapsed_sections": []
    },
    "kernelspec": {
      "display_name": "Python 3",
      "name": "python3"
    },
    "language_info": {
      "name": "python"
    }
  },
  "nbformat": 4,
  "nbformat_minor": 0
}